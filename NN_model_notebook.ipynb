{
  "nbformat": 4,
  "nbformat_minor": 0,
  "metadata": {
    "accelerator": "GPU",
    "colab": {
      "name": "981009V4.ipynb",
      "provenance": [],
      "collapsed_sections": []
    },
    "kernelspec": {
      "display_name": "Python 3",
      "name": "python3"
    }
  },
  "cells": [
    {
      "cell_type": "markdown",
      "metadata": {
        "id": "T6MaXPHC-naR"
      },
      "source": [
        "# Uploading Files"
      ]
    },
    {
      "cell_type": "markdown",
      "metadata": {
        "id": "eLzIRDd9-79_"
      },
      "source": [
        "The data is broken down into training images, testing images, training labels and testing labels"
      ]
    },
    {
      "cell_type": "code",
      "metadata": {
        "colab": {
          "resources": {
            "http://localhost:8080/nbextensions/google.colab/files.js": {
              "data": "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",
              "ok": true,
              "headers": [
                [
                  "content-type",
                  "application/javascript"
                ]
              ],
              "status": 200,
              "status_text": ""
            }
          },
          "base_uri": "https://localhost:8080/",
          "height": 174
        },
        "id": "d5IKQv8kvojN",
        "outputId": "08d87a1c-abcb-41ef-8d7d-f117e537dea0"
      },
      "source": [
        "from google.colab import files\n",
        "uploaded = files.upload()"
      ],
      "execution_count": null,
      "outputs": [
        {
          "output_type": "display_data",
          "data": {
            "text/html": [
              "\n",
              "     <input type=\"file\" id=\"files-18ef98b5-3121-430a-b54d-210d625ca652\" name=\"files[]\" multiple disabled\n",
              "        style=\"border:none\" />\n",
              "     <output id=\"result-18ef98b5-3121-430a-b54d-210d625ca652\">\n",
              "      Upload widget is only available when the cell has been executed in the\n",
              "      current browser session. Please rerun this cell to enable.\n",
              "      </output>\n",
              "      <script src=\"/nbextensions/google.colab/files.js\"></script> "
            ],
            "text/plain": [
              "<IPython.core.display.HTML object>"
            ]
          },
          "metadata": {
            "tags": []
          }
        },
        {
          "output_type": "stream",
          "text": [
            "Saving trnImage.npy to trnImage.npy\n",
            "Saving trnLabel.npy to trnLabel.npy\n",
            "Saving tstImage.npy to tstImage.npy\n",
            "Saving tstLabel.npy to tstLabel.npy\n"
          ],
          "name": "stdout"
        }
      ]
    },
    {
      "cell_type": "markdown",
      "metadata": {
        "id": "IuvCkD4z-u4Q"
      },
      "source": [
        "# Import External Libraries"
      ]
    },
    {
      "cell_type": "code",
      "metadata": {
        "id": "sUoNzAZo41lx"
      },
      "source": [
        "import numpy as np\n",
        "import matplotlib.pyplot as plt\n",
        "import sklearn.preprocessing as ppro\n",
        "import sklearn.svm as svm\n",
        "import skimage.feature\n",
        "import tensorflow as tf\n",
        "from sklearn.model_selection import train_test_split\n",
        "import sklearn.discriminant_analysis as dis_analysis\n",
        "from sklearn.metrics import plot_confusion_matrix\n",
        "import numpy.random as random\n",
        "import tensorflow.math as math"
      ],
      "execution_count": null,
      "outputs": []
    },
    {
      "cell_type": "markdown",
      "metadata": {
        "id": "mdQC5IRD_G_5"
      },
      "source": [
        "# Loading in data\n",
        "The data is loaded into appropriate variables"
      ]
    },
    {
      "cell_type": "code",
      "metadata": {
        "id": "ETGaTjva5F5N",
        "colab": {
          "base_uri": "https://localhost:8080/"
        },
        "outputId": "c34f4662-f4e7-492d-fbfe-9fb39e49158a"
      },
      "source": [
        "trainingImages = np.load('trnImage.npy')\n",
        "testingImages = np.load('tstImage.npy')\n",
        "\n",
        "trainingLabels = np.load('trnLabel.npy')\n",
        "testingLabels = np.load('tstLabel.npy')\n",
        "\n",
        "print(f'Shape of Training Dataset: {trainingImages.shape}')\n",
        "print(f'Shape of Testing Dataset: {testingImages.shape}')\n",
        "print(f'Shape of Training Labels: {trainingLabels.shape}')\n",
        "print(f'Shape of Testing Labels: {testingLabels.shape}')"
      ],
      "execution_count": null,
      "outputs": [
        {
          "output_type": "stream",
          "text": [
            "Shape of Training Dataset: (32, 32, 3, 10000)\n",
            "Shape of Testing Dataset: (32, 32, 3, 1000)\n",
            "Shape of Training Labels: (10000, 1)\n",
            "Shape of Testing Labels: (1000, 1)\n"
          ],
          "name": "stdout"
        }
      ]
    },
    {
      "cell_type": "markdown",
      "metadata": {
        "id": "sWEe_IBx-FCk"
      },
      "source": [
        "# Object Detection: Suppor Vector Machines\n",
        "This assignment will focus on developing learning models for detecting objects in images. This will be done by using an SVM model and a CNN model. This notebook will now present the implementation done for detecting objects with an SVM model."
      ]
    },
    {
      "cell_type": "markdown",
      "metadata": {
        "id": "_wulM_pf_h2w"
      },
      "source": [
        "# Preprocessing: HOG features extraction\n",
        "SVM works well with feature vectors, so we use the HOG (Histogram of Oriented Gradients) function to extract the features from each sample image. The HOG function detects intensity changes in localised areas and in different orientation. This is the reason why HOG features are so useful in object-detection."
      ]
    },
    {
      "cell_type": "code",
      "metadata": {
        "id": "S-Vm0DZNs09G"
      },
      "source": [
        "imageFeaturesTraining = []\n",
        "imageFeaturesTesting = []\n",
        "\n",
        "for i in range(10000):\n",
        "    imageFeaturesTraining.append(skimage.feature.hog(trainingImages[:,:,:,i], pixels_per_cell=[2,2], cells_per_block=[3,3]))\n",
        "\n",
        "for j in range(1000):\n",
        "    imageFeaturesTesting.append(skimage.feature.hog(testingImages[:,:,:,j], pixels_per_cell=[2,2], cells_per_block=[3,3]))"
      ],
      "execution_count": null,
      "outputs": []
    },
    {
      "cell_type": "markdown",
      "metadata": {
        "id": "owP_HkuHAZDz"
      },
      "source": [
        "# Preprocessing: Shape of Feature Vectors\n",
        "After the HOG function is called for each sample, we obtain 2D matrices with dimension S x F. S being the number of samples, and F being the number of feature for each sample. We can see that there are 15876 features per samples."
      ]
    },
    {
      "cell_type": "code",
      "metadata": {
        "colab": {
          "base_uri": "https://localhost:8080/"
        },
        "id": "x9hdxMTs5JYV",
        "outputId": "a923fd5f-46ae-4884-841e-c85f92c27a85"
      },
      "source": [
        "featureMatrixTraining = np.mat(imageFeaturesTraining)\n",
        "print(featureMatrixTraining.shape)\n",
        "\n",
        "featureMatrixTesting = np.mat(imageFeaturesTesting)\n",
        "print(featureMatrixTesting.shape)"
      ],
      "execution_count": null,
      "outputs": [
        {
          "output_type": "stream",
          "text": [
            "(10000, 15876)\n",
            "(1000, 15876)\n"
          ],
          "name": "stdout"
        }
      ]
    },
    {
      "cell_type": "markdown",
      "metadata": {
        "id": "GbG8KUtSBFh_"
      },
      "source": [
        "# Preprocessing: Dimensionality Reduction\n",
        "In order to improve the efficiency of the program, it may be useful to reduce the dimensionality of the dataset. To do this, we use Linear Discriminant Analysis (LDA). The reason we use LDA and not PCA (Principal Component Analysis) is the fact that LDA focuses on maximasing the separability among classes, making it an ideal method for classification. LDA allows us to reduce the number of features from 15876 down to 9. This improves the efficiency of the program, but it may hinder on the accuracy of the model."
      ]
    },
    {
      "cell_type": "code",
      "metadata": {
        "colab": {
          "base_uri": "https://localhost:8080/"
        },
        "id": "unkH_8oI5LPc",
        "outputId": "6e8aa1da-c35b-4423-d216-6f261407db78"
      },
      "source": [
        "lda = dis_analysis.LinearDiscriminantAnalysis()\n",
        "lda.fit(featureMatrixTraining, trainingLabels.ravel())\n",
        "\n",
        "transformedTrainingData = lda.transform(featureMatrixTraining)\n",
        "transformedTestingData = lda.transform(featureMatrixTesting)\n",
        "\n",
        "print(transformedTrainingData.shape)\n",
        "print(transformedTestingData.shape)"
      ],
      "execution_count": null,
      "outputs": [
        {
          "output_type": "stream",
          "text": [
            "(10000, 9)\n",
            "(1000, 9)\n"
          ],
          "name": "stdout"
        }
      ]
    },
    {
      "cell_type": "code",
      "metadata": {
        "colab": {
          "base_uri": "https://localhost:8080/"
        },
        "id": "bYoZEpYI5NTl",
        "outputId": "79102e2b-c881-4de6-d7c2-69971af476ae"
      },
      "source": [
        "svc = svm.SVC(kernel = 'poly', degree = 3, C = 0.264)\n",
        "svc.fit(transformedTrainingData, trainingLabels.ravel())\n",
        "\n",
        "predictedLabels = svc.predict(transformedTestingData)\n",
        "trainingAccuracy = svc.score(transformedTrainingData, trainingLabels)\n",
        "testingAccuracy = svc.score(transformedTestingData, testingLabels)\n",
        "\n",
        "print(f'Training Accuracy: {trainingAccuracy}')\n",
        "print(f'Testing Accuracy: {testingAccuracy}')"
      ],
      "execution_count": null,
      "outputs": [
        {
          "output_type": "stream",
          "text": [
            "Training Accuracy: 0.9973\n",
            "Testing Accuracy: 0.265\n"
          ],
          "name": "stdout"
        }
      ]
    },
    {
      "cell_type": "markdown",
      "metadata": {
        "id": "0IBOwVvZpz5M"
      },
      "source": [
        "# Preprocessing: Conclusions on Dimensionality Reduction\n",
        "Dimensionality reduction improved the efficiency of the model significantly, as it took only a few seconds to train it using 9 features. It seems to hinder the testing accuracy, however. We will procede then, without any dimensionality reduction. Changing the weighting of the model only managed to improve the results slightly."
      ]
    },
    {
      "cell_type": "markdown",
      "metadata": {
        "id": "294L-swBrRHr"
      },
      "source": [
        "# Training: Support Vector Machine without Dimensionality Reduction\n",
        "SVC was chosen due to the fact that it works well with vector features, and it may be capable of performing classification tasks with a decent level of accuracy. We will now procede to train a SVC model without Dimensionality Reduction. The main issue with this method is that it is very inefficient, due to the number of features in the dataset."
      ]
    },
    {
      "cell_type": "code",
      "metadata": {
        "colab": {
          "base_uri": "https://localhost:8080/"
        },
        "id": "1S74s3DOrz_u",
        "outputId": "6d25280e-5261-43c3-bcab-0e11a6462af8"
      },
      "source": [
        "svc = svm.SVC(kernel = 'poly', degree = 3)\n",
        "svc.fit(featureMatrixTraining, trainingLabels.ravel())\n",
        "\n",
        "predictedLabels = svc.predict(featureMatrixTesting)\n",
        "trainingAccuracy = svc.score(featureMatrixTraining, trainingLabels)\n",
        "testingAccuracy = svc.score(featureMatrixTesting, testingLabels)\n",
        "\n",
        "print(f'Training Accuracy: {trainingAccuracy}')\n",
        "print(f'Testing Accuracy: {testingAccuracy}')"
      ],
      "execution_count": null,
      "outputs": [
        {
          "output_type": "stream",
          "text": [
            "Training Accuracy: 0.9999\n",
            "Testing Accuracy: 0.524\n"
          ],
          "name": "stdout"
        }
      ]
    },
    {
      "cell_type": "markdown",
      "metadata": {
        "id": "mv2djftd9GW9"
      },
      "source": [
        "After a few hours, this model was able to train and test with the data provided. It showed a training accuracy of 0.9999 and a testing accuracy of 0.524. This indicates that the model is too sensitive to the training data and it doesn't behave well when dealing with new data that it hasn't seen before. In other words, the model is overfit."
      ]
    },
    {
      "cell_type": "markdown",
      "metadata": {
        "id": "N9-PzRSZ9kQG"
      },
      "source": [
        "# Results: The confusion Matrix\n",
        "We now plot the confusion matrix for this model. The confusion matrix checks the number of true positives against false positives and false negatives. showing us the performance of the model for different classes.In this case, we can see that the model is performing fairly well, with less accuracy in class 2. This might be due to outliers that are classified as being part of the second class."
      ]
    },
    {
      "cell_type": "code",
      "metadata": {
        "colab": {
          "base_uri": "https://localhost:8080/",
          "height": 279
        },
        "id": "ymieSlDKOAUY",
        "outputId": "0543db9d-c05d-4867-8b8e-28aaadf3c7ec"
      },
      "source": [
        "plot_confusion_matrix(svc, featureMatrixTesting, testingLabels)\n",
        "plt.show()"
      ],
      "execution_count": null,
      "outputs": [
        {
          "output_type": "display_data",
          "data": {
            "image/png": "[encoded data removed]",
            "text/plain": [
              "<Figure size 432x288 with 2 Axes>"
            ]
          },
          "metadata": {
            "tags": [],
            "needs_background": "light"
          }
        }
      ]
    },
    {
      "cell_type": "markdown",
      "metadata": {
        "id": "_bik_rui-CNN"
      },
      "source": [
        "# Object Detection: Convolutional Neural Networks\n",
        "We have presented the proposed implementation for detecting objects with Support Vector Machines. We will now do the same for Convolutional Neural Networks. \n",
        "The dataset used for this assignment is made of images, this means that learning local information is more important than global information, since neighbouring pixels have a great correlation between one another. Convolutional layers are the ideal choice for this, as a filter only considers a portion of the image at a time. The fact that we are not using a Fully Connected Neural Network also means that there is less edges between layers. This increases the efficiency of the model overall.\n",
        "\n"
      ]
    },
    {
      "cell_type": "markdown",
      "metadata": {
        "id": "yL8384fnADFV"
      },
      "source": [
        "# Preprocessing: Reshaping the Dataset\n",
        "Unlike SVM, CNN works best with the original images in the dataset, rather than the hog features. The dataset uses the format H x W x C x S, where H is the height of the images, W is the width, C is the channel and S is the number of samples. This poses a problem, since Keras uses the format S x H x W x C. For this reason, we reshape the dataset to fit the proper format."
      ]
    },
    {
      "cell_type": "code",
      "metadata": {
        "colab": {
          "base_uri": "https://localhost:8080/"
        },
        "id": "mTa72LA18ti3",
        "outputId": "f31ac2e0-171b-4b1c-a056-200c27934ef3"
      },
      "source": [
        "print(f'Shape of Training Dataset before reshape: {trainingImages.shape}')\n",
        "print(f'Shape of Testing Dataset before reshape: {testingImages.shape}')"
      ],
      "execution_count": null,
      "outputs": [
        {
          "output_type": "stream",
          "text": [
            "Shape of Training Dataset before reshape: (10000, 32, 32, 3)\n",
            "Shape of Testing Dataset before reshape: (1000, 32, 32, 3)\n"
          ],
          "name": "stdout"
        }
      ]
    },
    {
      "cell_type": "code",
      "metadata": {
        "colab": {
          "base_uri": "https://localhost:8080/"
        },
        "id": "S06KjF7X8UaX",
        "outputId": "9ca7c455-f095-4d7e-d918-866077b01e22"
      },
      "source": [
        "trainingImages = trainingImages.reshape(10000, 32, 32, 3)\n",
        "testingImages = testingImages.reshape(1000, 32, 32, 3)\n",
        "\n",
        "print(f'Shape of Training Dataset after reshape: {trainingImages.shape}')\n",
        "print(f'Shape of Testing Dataset after reshape: {testingImages.shape}')"
      ],
      "execution_count": null,
      "outputs": [
        {
          "output_type": "stream",
          "text": [
            "Shape of Training Dataset after reshape: (10000, 32, 32, 3)\n",
            "Shape of Testing Dataset after reshape: (1000, 32, 32, 3)\n"
          ],
          "name": "stdout"
        }
      ]
    },
    {
      "cell_type": "markdown",
      "metadata": {
        "id": "Z7od-VCXBYuT"
      },
      "source": [
        "# Preprocessing: Shuffling the dataset\n",
        "The labels in the dataset are in order from 0 to 9. This doesn't pose a problem for SVM, but models that use a batch-based stochastic approach, this may cause some issues during training. For this reason, we shuffle the labels and the dataset, making sure not to break the relationship between the images and the labels."
      ]
    },
    {
      "cell_type": "code",
      "metadata": {
        "id": "Mzm_RVEJCNxO"
      },
      "source": [
        "for i in range(len(trainingLabels)):\n",
        "    swappingIndex = np.random.randint(0, 10000, 1)\n",
        "    \n",
        "    trainingImages[[i, swappingIndex[0]]] = trainingImages[[swappingIndex[0], i]]\n",
        "    trainingLabels[[i, swappingIndex[0]]] = trainingLabels[[swappingIndex[0], i]]\n",
        "\n",
        "for i in range(len(testingLabels)):\n",
        "    swappingIndex = np.random.randint(0, 1000, 1)\n",
        "    \n",
        "    testingImages[[i, swappingIndex[0]]] = testingImages[[swappingIndex[0], i]]\n",
        "    testingLabels[[i, swappingIndex[0]]] = testingLabels[[swappingIndex[0], i]]"
      ],
      "execution_count": null,
      "outputs": []
    },
    {
      "cell_type": "markdown",
      "metadata": {
        "id": "_vW2e8qTCkDL"
      },
      "source": [
        "# CNN Architecture: Selecting the Layers\n",
        "This model starts two convolutional layers to capture the local information in the images. The kernel size is set to be (3, 3) because it is shown to be efficient with many other models. the activation function is relu for the same reason. the two convolutional layers are followed by a max pooling layer, capturing the peaks of information and reducing the memory footprint. the data is then flattened, with a Flatten() layer. The model proceeds with a dense layer with a high number of neurons. each neuron has a 20% chance of being reduced to 0 by the droput layer. This should help to prevent the model from overfitting. the model ends with 10 output neurons, each outputing the probability for a given sample to belong to one of the 10 classes available. The final activation function is softmax, since it has proven to behave well in the final layer of other models."
      ]
    },
    {
      "cell_type": "code",
      "metadata": {
        "id": "3PhAXWNzChsX"
      },
      "source": [
        "modelConv = tf.keras.Sequential(layers=[\n",
        "            tf.keras.layers.Conv2D(32, (3, 3), activation = 'relu'),\n",
        "            tf.keras.layers.Conv2D(32, (3, 3), activation = 'relu'),\n",
        "            tf.keras.layers.MaxPooling2D(),\n",
        "            tf.keras.layers.Flatten(),\n",
        "            tf.keras.layers.Dense(128, activation='relu'),\n",
        "            tf.keras.layers.Dropout(0.2),\n",
        "            tf.keras.layers.Dense(len(np.unique(trainingLabels)), activation=tf.nn.softmax)])"
      ],
      "execution_count": null,
      "outputs": []
    },
    {
      "cell_type": "markdown",
      "metadata": {
        "id": "WLwcYU2VC-rs"
      },
      "source": [
        "# CNN Architecture: Compiling"
      ]
    },
    {
      "cell_type": "code",
      "metadata": {
        "id": "RyueFw4dDBtJ"
      },
      "source": [
        "modelConv.compile(optimizer=tf.keras.optimizers.Adam(learning_rate = 0.0005), \n",
        "                  loss=tf.keras.losses.SparseCategoricalCrossentropy(), \n",
        "                  metrics=tf.keras.metrics.SparseCategoricalAccuracy())"
      ],
      "execution_count": null,
      "outputs": []
    },
    {
      "cell_type": "markdown",
      "metadata": {
        "id": "wdKoVQVADDu7"
      },
      "source": [
        "# Training: Convolutional Neural Networks"
      ]
    },
    {
      "cell_type": "code",
      "metadata": {
        "id": "6fyYW24uDQFi"
      },
      "source": [
        "history = modelConv.fit(trainingImages, trainingLabels, epochs=10, validation_split=0.05, verbose=0)"
      ],
      "execution_count": null,
      "outputs": []
    },
    {
      "cell_type": "markdown",
      "metadata": {
        "id": "6BDwYrzDDUZG"
      },
      "source": [
        "# Results: Accuracy and Loss Curves"
      ]
    },
    {
      "cell_type": "code",
      "metadata": {
        "colab": {
          "base_uri": "https://localhost:8080/",
          "height": 350
        },
        "id": "wG1nI-5mDX6I",
        "outputId": "44ab01b2-2ac3-4319-f7cd-a8d8c49c8443"
      },
      "source": [
        "plt.figure(figsize=[10,5])\n",
        "plt.subplot(121)\n",
        "plt.plot(history.history['sparse_categorical_accuracy'])\n",
        "plt.plot(history.history['val_sparse_categorical_accuracy'])\n",
        "plt.xlabel('Epoch')\n",
        "plt.ylabel('Accuracy')\n",
        "plt.legend(['Training Accuracy',\n",
        "           'Validation Accuracy'])\n",
        "plt.title('Accuracy Curves')\n",
        "\n",
        "plt.subplot(122)\n",
        "plt.plot(history.history['loss'])\n",
        "plt.plot(history.history['val_loss'])\n",
        "plt.xlabel('Epoch')\n",
        "plt.ylabel('Loss')\n",
        "plt.legend(['Training Loss',\n",
        "           'Validation Loss'])\n",
        "plt.title('Loss Curves')\n",
        "plt.show()"
      ],
      "execution_count": null,
      "outputs": [
        {
          "output_type": "display_data",
          "data": {
            "image/png": "[encoded data removed]",
            "text/plain": [
              "<Figure size 720x360 with 2 Axes>"
            ]
          },
          "metadata": {
            "tags": [],
            "needs_background": "light"
          }
        }
      ]
    },
    {
      "cell_type": "markdown",
      "metadata": {
        "id": "w9yN5LNpKktp"
      },
      "source": [
        "# Results: Confusion Matrix\n",
        "Below is the confusion matrix for the cnn."
      ]
    },
    {
      "cell_type": "code",
      "metadata": {
        "colab": {
          "base_uri": "https://localhost:8080/",
          "height": 269
        },
        "id": "RaYe8k5zKrwx",
        "outputId": "e0472a81-4d5f-4be3-b097-336113f444d5"
      },
      "source": [
        "predictedProbabilities = modelConv.predict(testingImages)\n",
        "\n",
        "predictedLabels = np.zeros((1000,))\n",
        "\n",
        "for i in range(1000):\n",
        "  maxValue = 0\n",
        "  maxIndex = 0\n",
        "  for j in range(10):\n",
        "    if(maxValue < predictedProbabilities[i][j]):\n",
        "      maxValue = predictedProbabilities[i][j]\n",
        "      maxIndex = j\n",
        "  predictedLabels[i] = maxIndex\n",
        "\n",
        "cm = math.confusion_matrix(testingLabels, predictedLabels, num_classes=10)\n",
        "plt.imshow(cm, cmap='viridis', interpolation='none')\n",
        "plt.colorbar()\n",
        "plt.show()"
      ],
      "execution_count": null,
      "outputs": [
        {
          "output_type": "display_data",
          "data": {
            "image/png": "[encoded data removed]",
            "text/plain": [
              "<Figure size 432x288 with 2 Axes>"
            ]
          },
          "metadata": {
            "tags": [],
            "needs_background": "light"
          }
        }
      ]
    }
  ]
}